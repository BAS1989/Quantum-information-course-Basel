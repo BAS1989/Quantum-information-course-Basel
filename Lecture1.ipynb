{
 "cells": [
  {
   "cell_type": "code",
   "execution_count": 1,
   "metadata": {},
   "outputs": [],
   "source": [
    "from qiskit import *\n",
    "import numpy as np\n",
    "import copy"
   ]
  },
  {
   "cell_type": "code",
   "execution_count": 2,
   "metadata": {},
   "outputs": [],
   "source": [
    "def set_output ( program, qubit, bit, type='Z' ):\n",
    "    if type=='X':\n",
    "        program.h(qubit) \n",
    "    program.measure(qubit,bit)\n",
    "\n",
    "def display_outputs ( program, hist=True ):\n",
    "    job = execute(program,Aer.get_backend('qasm_simulator'))\n",
    "    results = job.result().get_counts()\n",
    "    if hist:\n",
    "        qiskit.tools.visualization.plot_histogram(results)\n",
    "    for string in results:\n",
    "        print ('Output is ',string,' with probability',results[string]/1024)"
   ]
  },
  {
   "cell_type": "code",
   "execution_count": 3,
   "metadata": {},
   "outputs": [
    {
     "name": "stdout",
     "output_type": "stream",
     "text": [
      "Output is  1  with probability 0.12890625\n",
      "Output is  0  with probability 0.87109375\n"
     ]
    }
   ],
   "source": [
    "qubit = QuantumRegister(1)\n",
    "bit = ClassicalRegister(1)\n",
    "program = QuantumCircuit(qubit,bit)\n",
    "\n",
    "#program.x( qubit );\n",
    "#program.h( qubit );\n",
    "program.ry( np.pi/4, qubit );\n",
    "\n",
    "set_output( program, qubit, bit, type='Z' )\n",
    "\n",
    "display_outputs(program,hist=False)"
   ]
  },
  {
   "cell_type": "code",
   "execution_count": 4,
   "metadata": {},
   "outputs": [
    {
     "name": "stdout",
     "output_type": "stream",
     "text": [
      "                       ┌───┐┌────────────┐┌───┐┌────────────┐\n",
      "q1_0: |0>──────────────┤ X ├┤ Ry(0.7854) ├┤ X ├┤ Ry(2.3562) ├\n",
      "         ┌────────────┐└─┬─┘└────────────┘└─┬─┘└────────────┘\n",
      "q1_1: |0>┤ Ry(1.9106) ├──■──────────────────■────────────────\n",
      "         └────────────┘                                      \n",
      " c1_0: 0 ════════════════════════════════════════════════════\n",
      "                                                             \n",
      " c1_1: 0 ════════════════════════════════════════════════════\n",
      "                                                             \n"
     ]
    }
   ],
   "source": [
    "qubit = QuantumRegister(2)\n",
    "bit = ClassicalRegister(2)\n",
    "program = QuantumCircuit(qubit,bit)\n",
    "\n",
    "vector = [0, 1 / np.sqrt(3), 1 / np.sqrt(3), 1 / np.sqrt(3) ]\n",
    "program.initialize( vector, qubit );\n",
    "\n",
    "print(program)"
   ]
  },
  {
   "cell_type": "code",
   "execution_count": 5,
   "metadata": {},
   "outputs": [
    {
     "name": "stdout",
     "output_type": "stream",
     "text": [
      "Output is  11  with probability 0.337890625\n",
      "Output is  10  with probability 0.3095703125\n",
      "Output is  01  with probability 0.3525390625\n"
     ]
    }
   ],
   "source": [
    "programZZ = copy.deepcopy(program)\n",
    "\n",
    "program.measure(qubit,bit)\n",
    "\n",
    "display_outputs(program)"
   ]
  },
  {
   "cell_type": "code",
   "execution_count": 6,
   "metadata": {},
   "outputs": [
    {
     "name": "stdout",
     "output_type": "stream",
     "text": [
      "Output is  11  with probability 0.3359375\n",
      "Output is  10  with probability 0.169921875\n",
      "Output is  01  with probability 0.3349609375\n",
      "Output is  00  with probability 0.1591796875\n"
     ]
    }
   ],
   "source": [
    "programZX = copy.deepcopy(program)\n",
    "\n",
    "program.h(qubit[1])\n",
    "program.measure(qubit,bit)\n",
    "\n",
    "display_outputs(program)"
   ]
  },
  {
   "cell_type": "code",
   "execution_count": 7,
   "metadata": {},
   "outputs": [
    {
     "name": "stdout",
     "output_type": "stream",
     "text": [
      "Output is  11  with probability 0.26171875\n",
      "Output is  10  with probability 0.2529296875\n",
      "Output is  01  with probability 0.2421875\n",
      "Output is  00  with probability 0.2431640625\n"
     ]
    }
   ],
   "source": [
    "programXZ = copy.deepcopy(program)\n",
    "\n",
    "program.h(qubit[0])\n",
    "program.measure(qubit,bit)\n",
    "\n",
    "display_outputs(program)"
   ]
  },
  {
   "cell_type": "code",
   "execution_count": 8,
   "metadata": {},
   "outputs": [
    {
     "name": "stdout",
     "output_type": "stream",
     "text": [
      "Output is  11  with probability 0.26171875\n",
      "Output is  10  with probability 0.25\n",
      "Output is  01  with probability 0.244140625\n",
      "Output is  00  with probability 0.244140625\n"
     ]
    }
   ],
   "source": [
    "programXX = copy.deepcopy(program)\n",
    "\n",
    "program.h(qubit[0])\n",
    "program.h(qubit[1])\n",
    "program.measure(qubit,bit)\n",
    "\n",
    "display_outputs(program)"
   ]
  },
  {
   "cell_type": "code",
   "execution_count": null,
   "metadata": {},
   "outputs": [],
   "source": []
  }
 ],
 "metadata": {
  "kernelspec": {
   "display_name": "Python 3",
   "language": "python",
   "name": "python3"
  },
  "language_info": {
   "codemirror_mode": {
    "name": "ipython",
    "version": 3
   },
   "file_extension": ".py",
   "mimetype": "text/x-python",
   "name": "python",
   "nbconvert_exporter": "python",
   "pygments_lexer": "ipython3",
   "version": "3.7.0"
  }
 },
 "nbformat": 4,
 "nbformat_minor": 2
}
