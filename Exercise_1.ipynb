{
  "nbformat": 4,
  "nbformat_minor": 0,
  "metadata": {
    "colab": {
      "name": "Exercise_1.ipynb",
      "version": "0.3.2",
      "provenance": [],
      "collapsed_sections": [],
      "include_colab_link": true
    },
    "kernelspec": {
      "name": "python3",
      "display_name": "Python 3"
    }
  },
  "cells": [
    {
      "cell_type": "markdown",
      "metadata": {
        "id": "view-in-github",
        "colab_type": "text"
      },
      "source": [
        "<a href=\"https://colab.research.google.com/github/quantumjim/Quantum-information-course-Basel/blob/master/Exercise_1.ipynb\" target=\"_parent\"><img src=\"https://colab.research.google.com/assets/colab-badge.svg\" alt=\"Open In Colab\"/></a>"
      ]
    },
    {
      "metadata": {
        "id": "S1AlgZJE-lhh",
        "colab_type": "code",
        "colab": {}
      },
      "cell_type": "code",
      "source": [
        "!pip install qiskit==0.6.0"
      ],
      "execution_count": 0,
      "outputs": []
    },
    {
      "metadata": {
        "id": "ccfRql22_IBL",
        "colab_type": "text"
      },
      "cell_type": "markdown",
      "source": [
        "# Exercise 1\n",
        "\n",
        "Using the NOT gate (expressed as `x` in Qiskit), the CNOT gate (expressed as `cx` in Qiskit) and the Toffoli gate (expressed as `ccx` in Qiskit) create functions to implement the XOR, AND, NAND and OR gates.\n",
        "\n",
        "An implementation of the NOT gate is provided as an example."
      ]
    },
    {
      "metadata": {
        "id": "CQPEfZ-j-qwq",
        "colab_type": "code",
        "colab": {}
      },
      "cell_type": "code",
      "source": [
        "# import stuff\n",
        "from qiskit import *\n",
        "import warnings; warnings.filterwarnings(\"ignore\")"
      ],
      "execution_count": 0,
      "outputs": []
    },
    {
      "metadata": {
        "id": "OKCkpBD0_c6L",
        "colab_type": "text"
      },
      "cell_type": "markdown",
      "source": [
        "## NOT gate\n",
        "\n",
        "This function takes a binary string input (`'0'` or `'1'`) and returns the opposite binary output'."
      ]
    },
    {
      "metadata": {
        "id": "6JPMpemG_RMb",
        "colab_type": "code",
        "colab": {}
      },
      "cell_type": "code",
      "source": [
        "def NOT(input):\n",
        "\n",
        "  q = QuantumRegister(1) # a qubit in which to encode and manipulate the input\n",
        "  c = ClassicalRegister(1) # a bit to store the output\n",
        "  qc = QuantumCircuit(q, c) # this is where the quantum program goes\n",
        "  \n",
        "  # We encode '0' as the qubit state |0⟩, and '1' as |1⟩\n",
        "  # Since the qubit is initially |0⟩, we don't need to do anything for an input of '0'\n",
        "  # For an input of '1', we do an x to rotate the |0⟩ to |1⟩\n",
        "  if input=='1':\n",
        "    qc.x( q[0] )\n",
        "    \n",
        "  # Now we've encoded the input, we can do a NOT on it using x\n",
        "  qc.x( q[0] )\n",
        "  \n",
        "  # Finally, we extract the |0⟩/|1⟩ output of the qubit and encode it in the bit c[0]\n",
        "  qc.measure( q[0], c[0] )\n",
        "  \n",
        "  # We'll run the program on a simulator\n",
        "  backend = Aer.get_backend('qasm_simulator')\n",
        "  # Since the output will be deterministic, we can use just a single shot to get it\n",
        "  job = execute(qc,backend,shots=1)\n",
        "  output = next(iter(job.result().get_counts()))\n",
        "  \n",
        "  return output"
      ],
      "execution_count": 0,
      "outputs": []
    },
    {
      "metadata": {
        "id": "Gd-9DEAaAarK",
        "colab_type": "text"
      },
      "cell_type": "markdown",
      "source": [
        "## XOR gate\n",
        "\n",
        "Takes two binary strings as input and gives one as output.\n",
        "\n",
        "The output is `'0'` when the inputs are equal and  `'1'` otherwise."
      ]
    },
    {
      "metadata": {
        "id": "oPVCyyaHAays",
        "colab_type": "code",
        "colab": {}
      },
      "cell_type": "code",
      "source": [
        "def XOR(input1,input2):\n",
        "  \n",
        "  q = QuantumRegister(2) # two qubits in which to encode and manipulate the input\n",
        "  c = ClassicalRegister(1) # a bit to store the output\n",
        "  qc = QuantumCircuit(q, c) # this is where the quantum program goes\n",
        "  \n",
        "  # encode inputs\n",
        "  if input1=='1':\n",
        "    qc.x( q[0] )\n",
        "  if input1=='1':\n",
        "    qc.x( q[1] )\n",
        "  \n",
        "  # do the XOR with a CNOT\n",
        "  qc.cx(q[0],q[1])\n",
        "  \n",
        "  # measure result\n",
        "  qc.measure(q[1],c[0])\n",
        "  \n",
        "  # We'll run the program on a simulator\n",
        "  backend = Aer.get_backend('qasm_simulator')\n",
        "  # Since the output will be deterministic, we can use just a single shot to get it\n",
        "  job = execute(qc,backend,shots=1)\n",
        "  output = next(iter(job.result().get_counts()))\n",
        "  \n",
        "  return output"
      ],
      "execution_count": 0,
      "outputs": []
    },
    {
      "metadata": {
        "id": "dPMfIpfYAAT7",
        "colab_type": "text"
      },
      "cell_type": "markdown",
      "source": [
        "## AND gate\n",
        "\n",
        "Takes two binary strings as input and gives one as output.\n",
        "\n",
        "The output is `'1'` only when both the inputs are `'1'`."
      ]
    },
    {
      "metadata": {
        "id": "HdYfpnslAAeJ",
        "colab_type": "code",
        "colab": {}
      },
      "cell_type": "code",
      "source": [
        "def AND(input1,input2):\n",
        "  \n",
        "  q = QuantumRegister(3) # two qubits in which to encode the input, and one for the output\n",
        "  c = ClassicalRegister(1) # a bit to store the output\n",
        "  qc = QuantumCircuit(q, c) # this is where the quantum program goes\n",
        "  \n",
        "  # encode inputs\n",
        "  if input1=='1':\n",
        "    qc.x( q[0] )\n",
        "  if input1=='1':\n",
        "    qc.x( q[1] )\n",
        "  \n",
        "  # do the AND with a Toffoli\n",
        "  qc.ccx(q[0],q[1],q[2])\n",
        "  \n",
        "  # measure result\n",
        "  qc.measure(q[2],c[0])\n",
        "  \n",
        "  # We'll run the program on a simulator\n",
        "  backend = Aer.get_backend('qasm_simulator')\n",
        "  # Since the output will be deterministic, we can use just a single shot to get it\n",
        "  job = execute(qc,backend,shots=1)\n",
        "  output = next(iter(job.result().get_counts()))\n",
        "  \n",
        "  return output"
      ],
      "execution_count": 0,
      "outputs": []
    },
    {
      "metadata": {
        "id": "OXfchiSyAAoo",
        "colab_type": "text"
      },
      "cell_type": "markdown",
      "source": [
        "## NAND gate\n",
        "\n",
        "Takes two binary strings as input and gives one as output.\n",
        "\n",
        "The output is `'0'` only when both the inputs are `'1'`."
      ]
    },
    {
      "metadata": {
        "id": "nJhmG115AAwv",
        "colab_type": "code",
        "colab": {}
      },
      "cell_type": "code",
      "source": [
        "def NAND(input1,input2):\n",
        "  \n",
        "  q = QuantumRegister(3) # two qubits in which to encode the input, and one for the output\n",
        "  c = ClassicalRegister(1) # a bit to store the output\n",
        "  qc = QuantumCircuit(q, c) # this is where the quantum program goes\n",
        "  \n",
        "  # encode inputs\n",
        "  if input1=='1':\n",
        "    qc.x( q[0] )\n",
        "  if input1=='1':\n",
        "    qc.x( q[1] )\n",
        "  \n",
        "  qc.x(q[2]) # not on third input of Toffoli to make a NAND\n",
        "  \n",
        "  # do the NAND with a Toffoli\n",
        "  qc.ccx(q[0],q[1],q[2])\n",
        "  \n",
        "  # measure result\n",
        "  qc.measure(q[2],c[0])\n",
        "  \n",
        "  # We'll run the program on a simulator\n",
        "  backend = Aer.get_backend('qasm_simulator')\n",
        "  # Since the output will be deterministic, we can use just a single shot to get it\n",
        "  job = execute(qc,backend,shots=1)\n",
        "  output = next(iter(job.result().get_counts()))\n",
        "  \n",
        "  return output"
      ],
      "execution_count": 0,
      "outputs": []
    },
    {
      "metadata": {
        "id": "n1KswU_jABFA",
        "colab_type": "text"
      },
      "cell_type": "markdown",
      "source": [
        "## OR gate\n",
        "\n",
        "Takes two binary strings as input and gives one as output.\n",
        "\n",
        "The output is `'1'` if either input is `'1'`."
      ]
    },
    {
      "metadata": {
        "id": "_gofB196ABMj",
        "colab_type": "code",
        "colab": {}
      },
      "cell_type": "code",
      "source": [
        "def OR(input1,input2):\n",
        "  \n",
        "  q = QuantumRegister(3) # two qubits in which to encode the input, and one for the output\n",
        "  c = ClassicalRegister(1) # a bit to store the output\n",
        "  qc = QuantumCircuit(q, c) # this is where the quantum program goes\n",
        "  \n",
        "  # encode inputs\n",
        "  if input1=='1':\n",
        "    qc.x( q[0] )\n",
        "  if input1=='1':\n",
        "    qc.x( q[1] )\n",
        "  \n",
        "  qc.x(q[2]) # not on third input of Toffoli to make a NAND\n",
        "  \n",
        "  # NOTs on inputs of a NAND makes an OR\n",
        "  qc.x(q[0])\n",
        "  qc.x(q[1])\n",
        "  \n",
        "  # do the NAND with a Toffoli\n",
        "  qc.ccx(q[0],q[1],q[2])\n",
        "  \n",
        "  # measure result\n",
        "  qc.measure(q[2],c[0])\n",
        "  \n",
        "  # We'll run the program on a simulator\n",
        "  backend = Aer.get_backend('qasm_simulator')\n",
        "  # Since the output will be deterministic, we can use just a single shot to get it\n",
        "  job = execute(qc,backend,shots=1)\n",
        "  output = next(iter(job.result().get_counts()))\n",
        "  \n",
        "  return output"
      ],
      "execution_count": 0,
      "outputs": []
    },
    {
      "metadata": {
        "id": "flbXaXrY_pNz",
        "colab_type": "text"
      },
      "cell_type": "markdown",
      "source": [
        "## Tests\n",
        "\n",
        "The following code runs the functions above for all possible inputs, so that you can check whether they work."
      ]
    },
    {
      "metadata": {
        "id": "S9hyGAZ9_VQc",
        "colab_type": "code",
        "outputId": "696e7c7c-8cc9-402d-da36-6af18b3386b2",
        "colab": {
          "base_uri": "https://localhost:8080/",
          "height": 493
        }
      },
      "cell_type": "code",
      "source": [
        "print('\\nResults for the NOT gate')\n",
        "for input in ['0','1']:\n",
        "  print('    Input',input,'gives output',NOT(input))\n",
        "  \n",
        "print('\\nResults for the XOR gate')\n",
        "for input1 in ['0','1']:\n",
        "  for input2 in ['0','1']:\n",
        "    print('    Inputs',input1,input2,'give output',XOR(input1,input2))\n",
        "  \n",
        "print('\\nResults for the AND gate')\n",
        "for input1 in ['0','1']:\n",
        "  for input2 in ['0','1']:\n",
        "    print('    Inputs',input1,input2,'give output',AND(input1,input2))\n",
        "  \n",
        "print('\\nResults for the NAND gate')\n",
        "for input1 in ['0','1']:\n",
        "  for input2 in ['0','1']:\n",
        "    print('    Inputs',input1,input2,'give output',NAND(input1,input2))\n",
        "  \n",
        "print('\\nResults for the OR gate')\n",
        "for input1 in ['0','1']:\n",
        "  for input2 in ['0','1']:\n",
        "    print('    Inputs',input1,input2,'give output',OR(input1,input2))"
      ],
      "execution_count": 0,
      "outputs": [
        {
          "output_type": "stream",
          "text": [
            "\n",
            "Results for the NOT gate\n",
            "    Input 0 gives output 1\n",
            "    Input 1 gives output 0\n",
            "\n",
            "Results for the XOR gate\n",
            "    Inputs 0 0 give output 0\n",
            "    Inputs 0 1 give output 0\n",
            "    Inputs 1 0 give output 0\n",
            "    Inputs 1 1 give output 0\n",
            "\n",
            "Results for the AND gate\n",
            "    Inputs 0 0 give output 0\n",
            "    Inputs 0 1 give output 0\n",
            "    Inputs 1 0 give output 1\n",
            "    Inputs 1 1 give output 1\n",
            "\n",
            "Results for the NAND gate\n",
            "    Inputs 0 0 give output 1\n",
            "    Inputs 0 1 give output 1\n",
            "    Inputs 1 0 give output 0\n",
            "    Inputs 1 1 give output 0\n",
            "\n",
            "Results for the OR gate\n",
            "    Inputs 0 0 give output 0\n",
            "    Inputs 0 1 give output 0\n",
            "    Inputs 1 0 give output 1\n",
            "    Inputs 1 1 give output 1\n"
          ],
          "name": "stdout"
        }
      ]
    },
    {
      "metadata": {
        "id": "T9dlTNhrD5gU",
        "colab_type": "code",
        "colab": {}
      },
      "cell_type": "code",
      "source": [
        ""
      ],
      "execution_count": 0,
      "outputs": []
    }
  ]
}